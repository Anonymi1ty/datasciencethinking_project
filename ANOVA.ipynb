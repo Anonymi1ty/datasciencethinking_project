{
 "cells": [
  {
   "cell_type": "code",
   "execution_count": 3,
   "metadata": {},
   "outputs": [],
   "source": [
    "import pandas as pd\n",
    "import scipy.stats as stats\n",
    "import statsmodels.api as sm\n",
    "from statsmodels.formula.api import ols\n",
    "import matplotlib.pyplot as plt\n",
    "import seaborn as sns"
   ]
  },
  {
   "cell_type": "code",
   "execution_count": 4,
   "metadata": {},
   "outputs": [
    {
     "name": "stdout",
     "output_type": "stream",
     "text": [
      "<class 'pandas.core.frame.DataFrame'>\n",
      "RangeIndex: 2212 entries, 0 to 2211\n",
      "Data columns (total 23 columns):\n",
      " #   Column              Non-Null Count  Dtype  \n",
      "---  ------              --------------  -----  \n",
      " 0   ID                  2212 non-null   int64  \n",
      " 1   Age                 2212 non-null   int64  \n",
      " 2   Education           2212 non-null   int64  \n",
      " 3   Marital Status      2212 non-null   int64  \n",
      " 4   Parental Status     2212 non-null   int64  \n",
      " 5   Children            2212 non-null   int64  \n",
      " 6   Income              2212 non-null   float64\n",
      " 7   Spent               2212 non-null   int64  \n",
      " 8   Customer Loyalty    2212 non-null   int64  \n",
      " 9   Recency             2212 non-null   int64  \n",
      " 10  Wines               2212 non-null   int64  \n",
      " 11  Fruits              2212 non-null   int64  \n",
      " 12  Meat                2212 non-null   int64  \n",
      " 13  Fish                2212 non-null   int64  \n",
      " 14  Sweets              2212 non-null   int64  \n",
      " 15  Gold                2212 non-null   int64  \n",
      " 16  Web                 2212 non-null   int64  \n",
      " 17  Catalog             2212 non-null   int64  \n",
      " 18  Store               2212 non-null   int64  \n",
      " 19  Discount Purchases  2212 non-null   int64  \n",
      " 20  Total Promo         2212 non-null   int64  \n",
      " 21  Web Engagement      2212 non-null   int64  \n",
      " 22  Clusters            2212 non-null   int64  \n",
      "dtypes: float64(1), int64(22)\n",
      "memory usage: 397.6 KB\n",
      "None\n",
      "                 ID          Age    Education  Marital Status  \\\n",
      "count   2212.000000  2212.000000  2212.000000     2212.000000   \n",
      "mean    5585.160940    46.086347     0.609855        0.645570   \n",
      "std     3247.523735    11.701599     0.682635        0.478449   \n",
      "min        0.000000    19.000000     0.000000        0.000000   \n",
      "25%     2814.750000    38.000000     0.000000        0.000000   \n",
      "50%     5454.500000    45.000000     0.000000        1.000000   \n",
      "75%     8418.500000    56.000000     1.000000        1.000000   \n",
      "max    11191.000000    75.000000     2.000000        1.000000   \n",
      "\n",
      "       Parental Status     Children         Income        Spent  \\\n",
      "count      2212.000000  2212.000000    2212.000000  2212.000000   \n",
      "mean          0.714286     0.947559   51958.810579   607.268083   \n",
      "std           0.451856     0.749466   21527.278844   602.513364   \n",
      "min           0.000000     0.000000    1730.000000     5.000000   \n",
      "25%           0.000000     0.000000   35233.500000    69.000000   \n",
      "50%           1.000000     1.000000   51371.000000   397.000000   \n",
      "75%           1.000000     1.000000   68487.000000  1048.000000   \n",
      "max           1.000000     3.000000  162397.000000  2525.000000   \n",
      "\n",
      "       Customer Loyalty      Recency  ...         Fish       Sweets  \\\n",
      "count       2212.000000  2212.000000  ...  2212.000000  2212.000000   \n",
      "mean         353.714286    49.019439  ...    37.648734    27.046564   \n",
      "std          202.494886    28.943121  ...    54.772033    41.090991   \n",
      "min            0.000000     0.000000  ...     0.000000     0.000000   \n",
      "25%          180.000000    24.000000  ...     3.000000     1.000000   \n",
      "50%          356.000000    49.000000  ...    12.000000     8.000000   \n",
      "75%          529.000000    74.000000  ...    50.000000    33.000000   \n",
      "max          699.000000    99.000000  ...   259.000000   262.000000   \n",
      "\n",
      "              Gold          Web      Catalog        Store  Discount Purchases  \\\n",
      "count  2212.000000  2212.000000  2212.000000  2212.000000         2212.000000   \n",
      "mean     43.925859     4.088156     2.672242     5.806510            2.324593   \n",
      "std      51.706981     2.742187     2.927542     3.250939            1.924507   \n",
      "min       0.000000     0.000000     0.000000     0.000000            0.000000   \n",
      "25%       9.000000     2.000000     0.000000     3.000000            1.000000   \n",
      "50%      24.500000     4.000000     2.000000     5.000000            2.000000   \n",
      "75%      56.000000     6.000000     4.000000     8.000000            3.000000   \n",
      "max     321.000000    27.000000    28.000000    13.000000           15.000000   \n",
      "\n",
      "       Total Promo  Web Engagement     Clusters  \n",
      "count  2212.000000     2212.000000  2212.000000  \n",
      "mean      0.298373        9.409584     1.308770  \n",
      "std       0.679570        3.566067     0.984298  \n",
      "min       0.000000        0.000000     0.000000  \n",
      "25%       0.000000        7.000000     1.000000  \n",
      "50%       0.000000        9.000000     1.000000  \n",
      "75%       0.000000       11.000000     2.000000  \n",
      "max       4.000000       28.000000     3.000000  \n",
      "\n",
      "[8 rows x 23 columns]\n"
     ]
    }
   ],
   "source": [
    "# 1. 读取数据并进行基本检查\n",
    "data = pd.read_csv('output\\marketing_campaign_clusters.csv')\n",
    "print(data.info())\n",
    "print(data.describe())"
   ]
  },
  {
   "cell_type": "code",
   "execution_count": 5,
   "metadata": {},
   "outputs": [
    {
     "name": "stdout",
     "output_type": "stream",
     "text": [
      "Missing data per column:\n",
      " ID                    0\n",
      "Age                   0\n",
      "Education             0\n",
      "Marital Status        0\n",
      "Parental Status       0\n",
      "Children              0\n",
      "Income                0\n",
      "Spent                 0\n",
      "Customer Loyalty      0\n",
      "Recency               0\n",
      "Wines                 0\n",
      "Fruits                0\n",
      "Meat                  0\n",
      "Fish                  0\n",
      "Sweets                0\n",
      "Gold                  0\n",
      "Web                   0\n",
      "Catalog               0\n",
      "Store                 0\n",
      "Discount Purchases    0\n",
      "Total Promo           0\n",
      "Web Engagement        0\n",
      "Clusters              0\n",
      "dtype: int64\n"
     ]
    }
   ],
   "source": [
    "# 2. 检查是否有缺失值\n",
    "missing_data = data.isnull().sum()\n",
    "print(\"Missing data per column:\\n\", missing_data)"
   ]
  },
  {
   "cell_type": "code",
   "execution_count": 9,
   "metadata": {},
   "outputs": [],
   "source": [
    "# 3. 数据清洗（确保数值类型正确）\n",
    "data['Spent'] = pd.to_numeric(data['Spent'], errors='coerce')\n",
    "data['Clusters'] = data['Clusters'].astype('category')"
   ]
  },
  {
   "cell_type": "code",
   "execution_count": 10,
   "metadata": {},
   "outputs": [
    {
     "name": "stdout",
     "output_type": "stream",
     "text": [
      "Mean Spent by Cluster:\n",
      " Clusters\n",
      "0    1421.509804\n",
      "1      97.341439\n",
      "2     474.838462\n",
      "3    1089.204787\n",
      "Name: Spent, dtype: float64\n"
     ]
    },
    {
     "name": "stderr",
     "output_type": "stream",
     "text": [
      "C:\\Users\\86153\\AppData\\Local\\Temp\\ipykernel_16468\\1022485159.py:2: FutureWarning: The default of observed=False is deprecated and will be changed to True in a future version of pandas. Pass observed=False to retain current behavior or observed=True to adopt the future default and silence this warning.\n",
      "  group_means = data.groupby('Clusters')['Spent'].mean()\n"
     ]
    }
   ],
   "source": [
    "# 4. 分组均值检查\n",
    "group_means = data.groupby('Clusters')['Spent'].mean()\n",
    "print(\"Mean Spent by Cluster:\\n\", group_means)"
   ]
  },
  {
   "cell_type": "code",
   "execution_count": 11,
   "metadata": {},
   "outputs": [
    {
     "data": {
      "image/png": "[encoded data removed]",
      "text/plain": [
       "<Figure size 1000x600 with 1 Axes>"
      ]
     },
     "metadata": {},
     "output_type": "display_data"
    }
   ],
   "source": [
    "# 5. 可视化总支出在各个聚类组的分布情况\n",
    "plt.figure(figsize=(10, 6))\n",
    "sns.boxplot(x='Clusters', y='Spent', data=data)\n",
    "plt.title(\"Spent by Clusters\")\n",
    "plt.xlabel(\"Clusters\")\n",
    "plt.ylabel(\"Spent\")\n",
    "plt.show()"
   ]
  },
  {
   "cell_type": "markdown",
   "metadata": {},
   "source": [
    ">Residual: 组内平方和（Sum of Squares Within Groups）,它反映了每个聚类组内部数据点相对于组均值的差异，表示样本在组内的随机波动.`F` 和 `PR(>F)`：这些列通常是 `NaN`，因为残差部分没有统计检验\n",
    "\n"
   ]
  },
  {
   "cell_type": "code",
   "execution_count": 23,
   "metadata": {},
   "outputs": [
    {
     "name": "stdout",
     "output_type": "stream",
     "text": [
      "ANOVA results:\n",
      "                    sum_sq      df            F  PR(>F)\n",
      "C(Clusters)  6.551276e+08     3.0  3268.647759     0.0\n",
      "Residual     1.475148e+08  2208.0          NaN     NaN\n"
     ]
    }
   ],
   "source": [
    "# 6. ANOVA 分析\n",
    "# 构建模型\n",
    "model = ols('Spent ~ C(Clusters)', data=data).fit()\n",
    "anova_table = sm.stats.anova_lm(model, typ=2)\n",
    "print(\"ANOVA results:\\n\", anova_table)"
   ]
  },
  {
   "cell_type": "code",
   "execution_count": null,
   "metadata": {},
   "outputs": [
    {
     "name": "stdout",
     "output_type": "stream",
     "text": [
      "The p-value is 0.0000, which is less than 0.05. We reject the null hypothesis.\n",
      "This suggests that there is a statistically significant difference in 'Spent' across different clusters.\n",
      "\n"
     ]
    },
    {
     "name": "stderr",
     "output_type": "stream",
     "text": [
      "C:\\Users\\86153\\AppData\\Local\\Temp\\ipykernel_16468\\2990087028.py:2: FutureWarning: Series.__getitem__ treating keys as positions is deprecated. In a future version, integer keys will always be treated as labels (consistent with DataFrame behavior). To access a value by position, use `ser.iloc[pos]`\n",
      "  p_value = anova_table['PR(>F)'][0]\n"
     ]
    }
   ],
   "source": [
    "# 7. 结果解释(给出组间差异的p值)\n",
    "p_value = anova_table['PR(>F)'][0]\n",
    "if p_value < 0.05:\n",
    "    print(f\"The p-value is {p_value:.4f}, which is less than 0.05. We reject the null hypothesis.\")\n",
    "    print(\"This suggests that there is a statistically significant difference in 'Spent' across different clusters.\\n\")\n",
    "else:\n",
    "    print(f\"The p-value is {p_value:.4f}, which is greater than 0.05. We fail to reject the null hypothesis.\")\n",
    "    print(\"This suggests that there is no statistically significant difference in 'Spent' across different clusters.\")"
   ]
  }
 ],
 "metadata": {
  "kernelspec": {
   "display_name": "DA",
   "language": "python",
   "name": "python3"
  },
  "language_info": {
   "codemirror_mode": {
    "name": "ipython",
    "version": 3
   },
   "file_extension": ".py",
   "mimetype": "text/x-python",
   "name": "python",
   "nbconvert_exporter": "python",
   "pygments_lexer": "ipython3",
   "version": "3.10.15"
  }
 },
 "nbformat": 4,
 "nbformat_minor": 2
}
